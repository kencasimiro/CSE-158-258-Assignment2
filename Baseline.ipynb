{
 "cells": [
  {
   "cell_type": "code",
   "execution_count": null,
   "id": "2f617799-ac51-40f1-9e60-2b27315efd19",
   "metadata": {},
   "outputs": [],
   "source": [
    "# Cleaning and prepping Data"
   ]
  },
  {
   "cell_type": "code",
   "execution_count": 1,
   "id": "90d3e539-cb74-4789-b752-eeeb389eabca",
   "metadata": {},
   "outputs": [],
   "source": [
    "import pandas as pd\n",
    "import json\n",
    "from sklearn.model_selection import train_test_split\n",
    "\n",
    "# Load the JSONL file into a DataFrame\n",
    "file_path = \"Cell_Phones_and_Accessories_5.json\"\n",
    "\n",
    "# Read the JSONL data\n",
    "data = []\n",
    "with open(file_path, 'r') as f:\n",
    "    for line in f:\n",
    "        data.append(json.loads(line))  # Load each JSON object\n",
    "df = pd.DataFrame(data)\n",
    "\n",
    "# Data Cleaning\n",
    "# Drop rows with missing values\n",
    "df.dropna(inplace=True)\n",
    "\n",
    "# Standardize text fields\n",
    "df['reviewText'] = df['reviewText'].str.lower()\n",
    "df['reviewText'] = df['reviewText'].str.replace(r'[^\\w\\s]', '', regex=True)\n",
    "\n",
    "# Convert 'reviewTime' to a datetime object\n",
    "df['reviewTime'] = pd.to_datetime(df['reviewTime'], errors='coerce')\n",
    "\n",
    "# Dataset Splitting\n",
    "train, temp = train_test_split(df, test_size=0.2, random_state=42)  # 80% train\n",
    "validation, test = train_test_split(temp, test_size=0.5, random_state=42)  # 10% validation, 10% test\n",
    "\n",
    "# Save splits if needed\n",
    "train.to_csv(\"train.csv\", index=False)\n",
    "validation.to_csv(\"validation.csv\", index=False)\n",
    "test.to_csv(\"test.csv\", index=False)\n"
   ]
  },
  {
   "cell_type": "code",
   "execution_count": null,
   "id": "4274261e-ac52-4820-be73-01ed2e8ddef7",
   "metadata": {},
   "outputs": [],
   "source": [
    "# Baseline Predictor Model"
   ]
  },
  {
   "cell_type": "code",
   "execution_count": 2,
   "id": "3ca32f6b-a2c6-4473-8d32-a6a3f576e38c",
   "metadata": {},
   "outputs": [
    {
     "name": "stdout",
     "output_type": "stream",
     "text": [
      "Baseline metrics saved to 'baseline_metrics.csv'.\n",
      "Baseline predictions saved to 'baseline_predictions.csv'.\n",
      "Most Frequent Class Baseline Accuracy: 0.56\n",
      "Mean Baseline Accuracy: 0.21\n",
      "Most Frequent Prediction: 5.0\n",
      "Mean Prediction: 4\n"
     ]
    }
   ],
   "source": [
    "import numpy as np\n",
    "import pandas as pd\n",
    "from sklearn.metrics import accuracy_score\n",
    "\n",
    "# Check if necessary columns are present in the DataFrame\n",
    "if 'reviewText' in df.columns and 'overall' in df.columns:\n",
    "    # Split dataset into input (X) and target (y)\n",
    "    X = df['reviewText']  # Feature: review text\n",
    "    y = df['overall']     # Target: ratings\n",
    "\n",
    "    # **1. Most Frequent Class Baseline**\n",
    "    # Find the most frequent rating in the dataset\n",
    "    most_frequent_rating = y.mode()[0]\n",
    "\n",
    "    # Predict all ratings as the most frequent rating\n",
    "    y_pred_most_frequent = [most_frequent_rating] * len(y)\n",
    "\n",
    "    # Calculate accuracy for the most frequent class baseline\n",
    "    accuracy_most_frequent = accuracy_score(y, y_pred_most_frequent)\n",
    "\n",
    "    # **2. Mean Baseline**\n",
    "    # Predict the rounded mean of ratings\n",
    "    mean_rating = round(y.mean())\n",
    "    y_pred_mean = [mean_rating] * len(y)\n",
    "\n",
    "    # Calculate accuracy for the mean baseline\n",
    "    accuracy_mean = accuracy_score(y, y_pred_mean)\n",
    "\n",
    "    # Save baseline metrics to a CSV file\n",
    "    baseline_metrics = pd.DataFrame({\n",
    "        \"Model\": [\"Most Frequent\", \"Mean\"],\n",
    "        \"Accuracy\": [accuracy_most_frequent, accuracy_mean],\n",
    "        \"Prediction\": [most_frequent_rating, mean_rating]\n",
    "    })\n",
    "    baseline_metrics.to_csv(\"baseline_metrics.csv\", index=False)\n",
    "    print(\"Baseline metrics saved to 'baseline_metrics.csv'.\")\n",
    "\n",
    "    # Save baseline predictions for comparison\n",
    "    baseline_predictions = pd.DataFrame({\n",
    "        \"Actual\": y,\n",
    "        \"Most Frequent Prediction\": y_pred_most_frequent,\n",
    "        \"Mean Prediction\": y_pred_mean\n",
    "    })\n",
    "    baseline_predictions.to_csv(\"baseline_predictions.csv\", index=False)\n",
    "    print(\"Baseline predictions saved to 'baseline_predictions.csv'.\")\n",
    "\n",
    "    # Print metrics\n",
    "    print(f\"Most Frequent Class Baseline Accuracy: {accuracy_most_frequent:.2f}\")\n",
    "    print(f\"Mean Baseline Accuracy: {accuracy_mean:.2f}\")\n",
    "    print(f\"Most Frequent Prediction: {most_frequent_rating}\")\n",
    "    print(f\"Mean Prediction: {mean_rating}\")\n",
    "\n",
    "else:\n",
    "    print(\"The required columns 'reviewText' and 'overall' are not present in the DataFrame.\")\n"
   ]
  },
  {
   "cell_type": "code",
   "execution_count": null,
   "id": "8a42b4d6-c817-4890-a56c-fd0057e65904",
   "metadata": {},
   "outputs": [],
   "source": []
  }
 ],
 "metadata": {
  "kernelspec": {
   "display_name": "Python 3 (ipykernel)",
   "language": "python",
   "name": "python3"
  },
  "language_info": {
   "codemirror_mode": {
    "name": "ipython",
    "version": 3
   },
   "file_extension": ".py",
   "mimetype": "text/x-python",
   "name": "python",
   "nbconvert_exporter": "python",
   "pygments_lexer": "ipython3",
   "version": "3.11.9"
  }
 },
 "nbformat": 4,
 "nbformat_minor": 5
}
